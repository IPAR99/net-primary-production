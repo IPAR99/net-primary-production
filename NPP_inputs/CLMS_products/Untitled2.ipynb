{
 "cells": [
  {
   "cell_type": "code",
   "execution_count": 1,
   "id": "f2ae009b-44f2-4059-b64b-55919a95f974",
   "metadata": {},
   "outputs": [
    {
     "name": "stdout",
     "output_type": "stream",
     "text": [
      "✅ .gitignore created in NPP_project.\n"
     ]
    }
   ],
   "source": [
    "# --- Create .gitignore file to avoid committing large rasters ---\n",
    "gitignore_content = \"\"\"\n",
    "# Ignore large raster and satellite files\n",
    "*.tif\n",
    "*.tif.aux.xml\n",
    "*.tif.ovr\n",
    "*.dbf\n",
    "*.shp\n",
    "*.xml\n",
    "*.nc\n",
    "*.zip\n",
    "*.tar\n",
    "*.gz\n",
    "\n",
    "# Ignore Python caches and checkpoints\n",
    "__pycache__/\n",
    ".ipynb_checkpoints/\n",
    "\"\"\"\n",
    "\n",
    "with open(\"/home/jovyan/mystorage/NPP_project/.gitignore\", \"w\") as f:\n",
    "    f.write(gitignore_content.strip())\n",
    "\n",
    "print(\"✅ .gitignore created in NPP_project.\")\n"
   ]
  },
  {
   "cell_type": "code",
   "execution_count": null,
   "id": "4fee22ef-7e0f-4146-917f-259745202684",
   "metadata": {},
   "outputs": [],
   "source": []
  }
 ],
 "metadata": {
  "kernelspec": {
   "display_name": "Python 3 (ipykernel)",
   "language": "python",
   "name": "python3"
  },
  "language_info": {
   "codemirror_mode": {
    "name": "ipython",
    "version": 3
   },
   "file_extension": ".py",
   "mimetype": "text/x-python",
   "name": "python",
   "nbconvert_exporter": "python",
   "pygments_lexer": "ipython3",
   "version": "3.11.4"
  }
 },
 "nbformat": 4,
 "nbformat_minor": 5
}
