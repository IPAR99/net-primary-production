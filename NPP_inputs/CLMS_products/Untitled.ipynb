{
 "cells": [
  {
   "cell_type": "code",
   "execution_count": null,
   "id": "9b7d62fb-e99b-455e-a736-58d99b5d2c39",
   "metadata": {},
   "outputs": [],
   "source": [
    "# 🌥️ LAI / FAPAR Gap Filling in Cloudy Observations\n",
    "\n",
    "Satellite-derived vegetation indices like LAI and FAPAR are often affected by:\n",
    "- Clouds ☁️\n",
    "- Cloud shadows ⛅\n",
    "- Sensor noise or missing tiles\n",
    "\n",
    "To estimate consistent productivity (e.g. NPP), we need to **fill gaps** caused by these effects in a way that is:\n",
    "- Scientifically sound\n",
    "- Computationally efficient\n",
    "- Transparent and reproducible\n",
    "\n",
    "---\n",
    "\n",
    "## 🧪 Example: 10-Day Window with 5 LAI Observations\n",
    "\n",
    "| Date         | LAI Value        | Cloud Mask |\n",
    "|--------------|------------------|------------|\n",
    "| May 1        | 3.2              | ✅ Clear    |\n",
    "| May 3        | NaN              | ❌ Cloudy   |\n",
    "| May 5        | 3.1              | ✅ Clear    |\n",
    "| May 7        | NaN              | ❌ Shadow   |\n",
    "| May 9        | 3.3              | ✅ Clear    |\n",
    "\n",
    "---\n",
    "\n",
    "## 🧠 Gap Filling Strategy: Temporal Averaging of Clear Pixels\n",
    "\n",
    "### 🔁 Step 1: Stack available LAI observations\n",
    "```python\n",
    "lai_stacked = xr.concat([lai1, lai2, lai3, lai4, lai5], dim=\"time\")\n"
   ]
  }
 ],
 "metadata": {
  "kernelspec": {
   "display_name": "Python 3 (ipykernel)",
   "language": "python",
   "name": "python3"
  },
  "language_info": {
   "codemirror_mode": {
    "name": "ipython",
    "version": 3
   },
   "file_extension": ".py",
   "mimetype": "text/x-python",
   "name": "python",
   "nbconvert_exporter": "python",
   "pygments_lexer": "ipython3",
   "version": "3.11.4"
  }
 },
 "nbformat": 4,
 "nbformat_minor": 5
}
